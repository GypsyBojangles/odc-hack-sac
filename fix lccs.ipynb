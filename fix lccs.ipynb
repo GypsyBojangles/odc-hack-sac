{
 "cells": [
  {
   "cell_type": "code",
   "execution_count": 11,
   "metadata": {},
   "outputs": [],
   "source": [
    "import numpy\n",
    "import xarray\n",
    "import scipy\n",
    "from matplotlib import pyplot\n",
    "from matplotlib import cm\n",
    "import datacube\n",
    "from datacube.storage import masking\n",
    "import gdal\n",
    "import lccs_l3\n",
    "import osr\n",
    "import os\n",
    "from shapely.geometry import box\n",
    "import rasterio.merge\n",
    "from rio_cogeo.profiles import cog_profiles\n",
    "from rio_cogeo.cogeo import cog_translate"
   ]
  },
  {
   "cell_type": "code",
   "execution_count": 7,
   "metadata": {},
   "outputs": [],
   "source": [
    "out_filename = \"lccs/lccs_fiji_\"\n",
    "overview_resampling = 'nearest'\n"
   ]
  },
  {
   "cell_type": "code",
   "execution_count": 3,
   "metadata": {},
   "outputs": [],
   "source": [
    "def combine_tiles(tiles_locations,filename):\n",
    "    files = tiles_locations\n",
    "    output_filename = filename+'_TEMP'+'.tif'\n",
    "    sources = [rasterio.open(path) for path in files]\n",
    "    dest, out_transform = rasterio.merge.merge(sources)\n",
    "\n",
    "    with rasterio.open(files[0]) as src:\n",
    "        profile = src.profile\n",
    "\n",
    "    profile['transform'] = out_transform\n",
    "    profile['width'] = len(dest[0][0])\n",
    "    profile['height'] = len(dest[0])\n",
    "\n",
    "    with rasterio.open(output_filename, 'w', **profile) as dst:\n",
    "        dst.write(dest.astype(rasterio.int16))\n",
    "\n",
    "    [os.remove(path) for path in files]\n",
    "    return output_filename\n"
   ]
  },
  {
   "cell_type": "code",
   "execution_count": 4,
   "metadata": {},
   "outputs": [],
   "source": [
    "def create_cog(input, output, overview_resampling, bidx):\n",
    "    cogeo_profile = 'deflate'\n",
    "    nodata = -1\n",
    "    overview_level = 6\n",
    "    overview_resampling = overview_resampling\n",
    "    threads = 8\n",
    "    output_profile = cog_profiles.get(cogeo_profile)\n",
    "    output_profile.update(dict(BIGTIFF=os.environ.get(\"BIGTIFF\", \"IF_SAFER\")))\n",
    "    block_size = min(\n",
    "        int(output_profile[\"blockxsize\"]), int(output_profile[\"blockysize\"])\n",
    "    )\n",
    "\n",
    "    config = dict(\n",
    "        NUM_THREADS=threads,\n",
    "        GDAL_TIFF_INTERNAL_MASK=os.environ.get(\"GDAL_TIFF_INTERNAL_MASK\", True),\n",
    "        GDAL_TIFF_OVR_BLOCKSIZE=os.environ.get(\"GDAL_TIFF_OVR_BLOCKSIZE\", block_size),\n",
    "    )\n",
    "\n",
    "    cog_translate(\n",
    "        src_path=input,\n",
    "        dst_path=output,\n",
    "        dst_kwargs=output_profile,\n",
    "        indexes=bidx,\n",
    "        nodata=nodata,\n",
    "        web_optimized=False,\n",
    "        add_mask=False,\n",
    "        overview_level=overview_level,\n",
    "        overview_resampling=overview_resampling,\n",
    "        config=config,\n",
    "        quiet=False\n",
    "    )"
   ]
  },
  {
   "cell_type": "code",
   "execution_count": 5,
   "metadata": {},
   "outputs": [],
   "source": [
    "tiles_locations = []\n",
    "\n",
    "for i in range(1, 117):\n",
    "    filename = out_filename+str(i)+'_TEMP.tif'\n",
    "    if os.path.isfile(filename):\n",
    "        tiles_locations.append(filename)"
   ]
  },
  {
   "cell_type": "code",
   "execution_count": 12,
   "metadata": {},
   "outputs": [
    {
     "name": "stderr",
     "output_type": "stream",
     "text": [
      "Reading input: lccs/lccs_fiji__TEMP.tif\n",
      "\n",
      "Adding overviews...\n",
      "Updating dataset tags...\n",
      "Writing output to: lccs/lccs_fiji_.tif\n"
     ]
    }
   ],
   "source": [
    "\n",
    "\n",
    "#uncogged_output_file = combine_tiles(tiles_locations,out_filename)\n",
    "target_filename = out_filename+'.tif'\n",
    "#as we have created this bands separately, band index (bidx) is always 0\n",
    "bidx = 0\n",
    "create_cog(uncogged_output_file, target_filename, overview_resampling, bidx)\n",
    "os.remove(uncogged_output_file)"
   ]
  }
 ],
 "metadata": {
  "kernelspec": {
   "display_name": "Python 3",
   "language": "python",
   "name": "python3"
  },
  "language_info": {
   "codemirror_mode": {
    "name": "ipython",
    "version": 3
   },
   "file_extension": ".py",
   "mimetype": "text/x-python",
   "name": "python",
   "nbconvert_exporter": "python",
   "pygments_lexer": "ipython3",
   "version": "3.6.7"
  }
 },
 "nbformat": 4,
 "nbformat_minor": 2
}
