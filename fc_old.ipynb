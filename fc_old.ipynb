{
 "cells": [
  {
   "cell_type": "markdown",
   "metadata": {
    "ExecuteTime": {
     "end_time": "2018-04-27T01:24:30.937790Z",
     "start_time": "2018-04-27T01:24:30.933563Z"
    }
   },
   "source": [
    "# Open Data Cube - Fractional Cover Notebook"
   ]
  },
  {
   "cell_type": "code",
   "execution_count": 1,
   "metadata": {
    "ExecuteTime": {
     "end_time": "2018-07-10T00:40:11.682384Z",
     "start_time": "2018-07-10T00:40:01.886482Z"
    }
   },
   "outputs": [],
   "source": [
    "import datacube\n",
    "import rasterio.merge\n",
    "import os\n",
    "from rio_cogeo.cogeo import cog_translate\n",
    "from rio_cogeo.profiles import cog_profiles\n",
    "\n",
    "from datacube.model import Measurement\n",
    "from datacube.helpers import write_geotiff\n",
    "from fc.fractional_cover import fractional_cover\n",
    "from shapely.geometry import box\n",
    "\n",
    "import warnings\n",
    "dc = datacube.Datacube(app='fc')"
   ]
  },
  {
   "cell_type": "code",
   "execution_count": 2,
   "metadata": {
    "ExecuteTime": {
     "end_time": "2018-07-10T00:48:35.339387Z",
     "start_time": "2018-07-10T00:48:35.334758Z"
    }
   },
   "outputs": [],
   "source": [
    "footprint = box(583785.0,-2036115.0, 814515.0, -1802085.0)\n",
    "query = {'time': ('2016-09-16', '2016-09-18')}\n",
    "query['crs'] = 'EPSG:32660'\n",
    "query['resolution'] = (-30, 30)\n",
    "query['output_crs'] = 'EPSG:32660'\n",
    "query['product']= 'ls8_usgs_sr_scene'\n",
    "filename='/home/david/Downloads/fc/ls8_fc_'\n",
    "fishnet_size = 150000\n",
    "bands_of_interest = ['green','red','nir','swir1','swir2']\n",
    "overview_resampling = 'nearest'\n",
    "\n",
    "sensor_regression_coefficients= {\n",
    "  'blue':[0.00041,0.97470],\n",
    "  'green':[0.00289,0.99779],\n",
    "  'red':[0.00274,1.00446],\n",
    "  'nir':[0.00004,0.98906],\n",
    "  'swir1':[0.00256,0.99467],\n",
    "  'swir2':[-0.00327,1.02551]\n",
    "}"
   ]
  },
  {
   "cell_type": "code",
   "execution_count": 3,
   "metadata": {},
   "outputs": [],
   "source": [
    "fc_measurements = [\n",
    "    Measurement(name='BS',units='percent',dtype='int16',nodata=-1),\n",
    "    Measurement(name='PV',units='percent',dtype='int16',nodata=-1),\n",
    "    Measurement(name='NPV',units='percent',dtype='int16',nodata=-1),\n",
    "    Measurement(name='UE',units='1',dtype='int16',nodata=-1)]"
   ]
  },
  {
   "cell_type": "code",
   "execution_count": 4,
   "metadata": {},
   "outputs": [],
   "source": [
    "def fishnet(geometry, threshold):\n",
    "    bounds = geometry.bounds\n",
    "    xmin = int(bounds[0] // threshold)\n",
    "    xmax = int(bounds[2] // threshold)\n",
    "    ymin = int(bounds[1] // threshold)\n",
    "    ymax = int(bounds[3] // threshold)\n",
    "    ncols = int(xmax - xmin + 1)\n",
    "    nrows = int(ymax - ymin + 1)\n",
    "    result = []\n",
    "    for i in range(xmin, xmax+1):\n",
    "        for j in range(ymin, ymax+1):\n",
    "            b = box(i*threshold, j*threshold, (i+1)*threshold, (j+1)*threshold)\n",
    "            g = geometry.intersection(b)\n",
    "            if g.is_empty:\n",
    "                continue\n",
    "            result.append(g)\n",
    "    return result"
   ]
  },
  {
   "cell_type": "code",
   "execution_count": 5,
   "metadata": {},
   "outputs": [],
   "source": [
    "def create_cog(input, output, overview_resampling, bidx):\n",
    "    cogeo_profile = 'deflate'\n",
    "    nodata = -1\n",
    "    alpha = None\n",
    "    overview_level = 6\n",
    "    overview_resampling = overview_resampling\n",
    "    threads = 8\n",
    "    \n",
    "    output_profile = cog_profiles.get(cogeo_profile)\n",
    "    output_profile.update(dict(BIGTIFF=os.environ.get(\"BIGTIFF\", \"IF_SAFER\")))\n",
    "    \n",
    "    block_size = min(\n",
    "        int(output_profile[\"blockxsize\"]), int(output_profile[\"blockysize\"])\n",
    "    )\n",
    "\n",
    "    config = dict(\n",
    "        NUM_THREADS=threads,\n",
    "        GDAL_TIFF_INTERNAL_MASK=os.environ.get(\"GDAL_TIFF_INTERNAL_MASK\", True),\n",
    "        GDAL_TIFF_OVR_BLOCKSIZE=os.environ.get(\"GDAL_TIFF_OVR_BLOCKSIZE\", block_size),\n",
    "    )\n",
    "    print('creating '+output)\n",
    "    cog_translate(\n",
    "        input,\n",
    "        output,\n",
    "        output_profile,\n",
    "        bidx,\n",
    "        nodata,\n",
    "        alpha,\n",
    "        overview_level,\n",
    "        overview_resampling,\n",
    "        config\n",
    "    )\n",
    "    print('created '+output)"
   ]
  },
  {
   "cell_type": "code",
   "execution_count": 6,
   "metadata": {
    "ExecuteTime": {
     "end_time": "2018-07-10T00:52:11.084529Z",
     "start_time": "2018-07-10T00:48:35.841846Z"
    }
   },
   "outputs": [],
   "source": [
    "def load_and_generate_fc(query):\n",
    "    sr = dc.load(measurements = bands_of_interest,\n",
    "                 group_by='solar_day', \n",
    "                 **query).squeeze()\n",
    "    if not sr:\n",
    "        return None\n",
    "    \n",
    "    warnings.filterwarnings('ignore')\n",
    "    fc = fractional_cover(sr, fc_measurements, sensor_regression_coefficients)\n",
    "    warnings.filterwarnings('always')\n",
    "    \n",
    "    #del sr\n",
    "    return fc"
   ]
  },
  {
   "cell_type": "code",
   "execution_count": 7,
   "metadata": {},
   "outputs": [],
   "source": [
    "def write_fc_band_tile(fc, key, filename):\n",
    "    slim_dataset = fc[[key]]  # create a one band dataset\n",
    "    attrs = slim_dataset[key].attrs.copy()  # To get nodata in\n",
    "    del attrs['crs']  # It's format is poor\n",
    "    del attrs['units']  # It's format is poor\n",
    "    slim_dataset[key] = fc.data_vars[key].astype('int16', copy=True)\n",
    "    output_filename = filename+key+'_'+str(tile_no)+'_TEMP'+'.tif'\n",
    "    write_geotiff(output_filename, slim_dataset, profile_override=attrs)\n",
    "    return output_filename"
   ]
  },
  {
   "cell_type": "code",
   "execution_count": 8,
   "metadata": {},
   "outputs": [],
   "source": [
    "def combine_tiles_to_scene(fc_tiles_locations,key,filename):\n",
    "    files = fc_tiles_locations[key]\n",
    "    output_filename = filename+key+'_TEMP'+'.tif'\n",
    "    sources = [rasterio.open(path) for path in files]\n",
    "    dest, out_transform = rasterio.merge.merge(sources)\n",
    "\n",
    "    with rasterio.open(files[0]) as src:\n",
    "        profile = src.profile\n",
    "    profile['transform'] = out_transform\n",
    "    profile['width'] = len(dest[0][0])\n",
    "    profile['height'] = len(dest[0])\n",
    "    with rasterio.open(output_filename, 'w', **profile) as dst:\n",
    "        dst.write(dest.astype(rasterio.int16))\n",
    "    [os.remove(path) for path in files]\n",
    "    return output_filename"
   ]
  },
  {
   "cell_type": "code",
   "execution_count": 9,
   "metadata": {},
   "outputs": [],
   "source": [
    "tile_no = 0\n",
    "fc_tiles_locations = {}\n",
    "bounds_list = fishnet(footprint,fishnet_size)\n",
    "for measurement in fc_measurements:\n",
    "    fc_tiles_locations[measurement['name']] = []\n",
    "\n",
    "for bb in bounds_list:\n",
    "    query['x'] = (bb.bounds[0],bb.bounds[2])\n",
    "    query['y'] = (bb.bounds[1],bb.bounds[3])\n",
    "    \n",
    "    fc = load_and_generate_fc(query)\n",
    "    if fc:\n",
    "        for measurement in fc_measurements:\n",
    "            key = measurement['name']\n",
    "            fc_tiles_locations[key].append(write_fc_band_tile(fc,key,filename))\n",
    "        tile_no = tile_no + 1\n",
    "        del fc"
   ]
  },
  {
   "cell_type": "code",
   "execution_count": 10,
   "metadata": {},
   "outputs": [
    {
     "name": "stderr",
     "output_type": "stream",
     "text": [
      "Reading input: /home/david/Downloads/fc/ls8_fc_BS_TEMP.tif\n"
     ]
    },
    {
     "name": "stdout",
     "output_type": "stream",
     "text": [
      "creating /home/david/Downloads/fc/ls8_fc_BS.tif\n"
     ]
    },
    {
     "name": "stderr",
     "output_type": "stream",
     "text": [
      "Adding overviews...\n",
      "Updating dataset tags...\n",
      "Writing output to: /home/david/Downloads/fc/ls8_fc_BS.tif\n"
     ]
    },
    {
     "name": "stdout",
     "output_type": "stream",
     "text": [
      "created /home/david/Downloads/fc/ls8_fc_BS.tif\n"
     ]
    },
    {
     "name": "stderr",
     "output_type": "stream",
     "text": [
      "Reading input: /home/david/Downloads/fc/ls8_fc_PV_TEMP.tif\n"
     ]
    },
    {
     "name": "stdout",
     "output_type": "stream",
     "text": [
      "creating /home/david/Downloads/fc/ls8_fc_PV.tif\n"
     ]
    },
    {
     "name": "stderr",
     "output_type": "stream",
     "text": [
      "Adding overviews...\n",
      "Updating dataset tags...\n",
      "Writing output to: /home/david/Downloads/fc/ls8_fc_PV.tif\n"
     ]
    },
    {
     "name": "stdout",
     "output_type": "stream",
     "text": [
      "created /home/david/Downloads/fc/ls8_fc_PV.tif\n"
     ]
    },
    {
     "name": "stderr",
     "output_type": "stream",
     "text": [
      "Reading input: /home/david/Downloads/fc/ls8_fc_NPV_TEMP.tif\n"
     ]
    },
    {
     "name": "stdout",
     "output_type": "stream",
     "text": [
      "creating /home/david/Downloads/fc/ls8_fc_NPV.tif\n"
     ]
    },
    {
     "name": "stderr",
     "output_type": "stream",
     "text": [
      "Adding overviews...\n",
      "Updating dataset tags...\n",
      "Writing output to: /home/david/Downloads/fc/ls8_fc_NPV.tif\n"
     ]
    },
    {
     "name": "stdout",
     "output_type": "stream",
     "text": [
      "created /home/david/Downloads/fc/ls8_fc_NPV.tif\n"
     ]
    },
    {
     "name": "stderr",
     "output_type": "stream",
     "text": [
      "Reading input: /home/david/Downloads/fc/ls8_fc_UE_TEMP.tif\n"
     ]
    },
    {
     "name": "stdout",
     "output_type": "stream",
     "text": [
      "creating /home/david/Downloads/fc/ls8_fc_UE.tif\n"
     ]
    },
    {
     "name": "stderr",
     "output_type": "stream",
     "text": [
      "Adding overviews...\n",
      "Updating dataset tags...\n",
      "Writing output to: /home/david/Downloads/fc/ls8_fc_UE.tif\n"
     ]
    },
    {
     "name": "stdout",
     "output_type": "stream",
     "text": [
      "created /home/david/Downloads/fc/ls8_fc_UE.tif\n"
     ]
    }
   ],
   "source": [
    "for measurement in fc_measurements:\n",
    "    key = measurement['name']\n",
    "    uncogged_output_file = combine_tiles_to_scene(fc_tiles_locations,key,filename)\n",
    "    target_filename = filename+key+'.tif'\n",
    "    #as we have created this bands separately, band index (bidx) is always 0\n",
    "    bidx = 0\n",
    "    create_cog(uncogged_output_file, target_filename, overview_resampling, bidx)\n",
    "    os.remove(uncogged_output_file)"
   ]
  }
 ],
 "metadata": {
  "kernelspec": {
   "display_name": "Python 3",
   "language": "python",
   "name": "python3"
  },
  "language_info": {
   "codemirror_mode": {
    "name": "ipython",
    "version": 3
   },
   "file_extension": ".py",
   "mimetype": "text/x-python",
   "name": "python",
   "nbconvert_exporter": "python",
   "pygments_lexer": "ipython3",
   "version": "3.6.7"
  },
  "toc": {
   "base_numbering": 1,
   "nav_menu": {
    "height": "354px",
    "width": "160px"
   },
   "number_sections": true,
   "sideBar": true,
   "skip_h1_title": false,
   "title_cell": "Table of Contents",
   "title_sidebar": "Contents",
   "toc_cell": false,
   "toc_position": {},
   "toc_section_display": true,
   "toc_window_display": false
  },
  "widgets": {
   "state": {
    "41cf9b5ae99f431f8c32da0cf0c287b5": {
     "views": [
      {
       "cell_index": 8
      }
     ]
    },
    "50e23ba816ef41b2830b01c34ab8c5d3": {
     "views": [
      {
       "cell_index": 8
      }
     ]
    },
    "70527fca43254781ae53895c28d6f4e1": {
     "views": [
      {
       "cell_index": 8
      }
     ]
    },
    "d8303e34f746450494aea0fec5f6849a": {
     "views": [
      {
       "cell_index": 8
      }
     ]
    }
   },
   "version": "1.2.0"
  }
 },
 "nbformat": 4,
 "nbformat_minor": 1
}
